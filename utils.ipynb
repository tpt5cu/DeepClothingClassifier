{
 "cells": [
  {
   "cell_type": "code",
   "execution_count": null,
   "metadata": {},
   "outputs": [],
   "source": [
    "# Util Functions"
   ]
  },
  {
   "cell_type": "code",
   "execution_count": null,
   "metadata": {},
   "outputs": [],
   "source": [
    "#Looks up if test train or val\n",
    "def partitionLookup(path):\n",
    "\tdType = train_d[path]\n",
    "\treturn dType"
   ]
  },
  {
   "cell_type": "code",
   "execution_count": null,
   "metadata": {},
   "outputs": [],
   "source": [
    "#Looks up class of clothing\n",
    "def catLookup(path):\n",
    "\tcat = cat_d[path]\n",
    "\treturn cat\n"
   ]
  },
  {
   "cell_type": "code",
   "execution_count": null,
   "metadata": {},
   "outputs": [],
   "source": [
    "\n",
    "def importImage(imgpath):\n",
    "\t# load an image in PIL format\n",
    "\toriginal = load_img(imgpath, target_size=(224, 224))\n",
    "\t# convert the PIL image to a numpy array\n",
    "\t# IN PIL - image is in (width, height, channel)\n",
    "\t# In Numpy - image is in (height, width, channel)\n",
    "\tnumpy_image = img_to_array(original)\n",
    "\treturn numpy_image"
   ]
  }
 ],
 "metadata": {
  "kernelspec": {
   "display_name": "Python 2",
   "language": "python",
   "name": "python2"
  },
  "language_info": {
   "codemirror_mode": {
    "name": "ipython",
    "version": 2
   },
   "file_extension": ".py",
   "mimetype": "text/x-python",
   "name": "python",
   "nbconvert_exporter": "python",
   "pygments_lexer": "ipython2",
   "version": "2.7.12"
  }
 },
 "nbformat": 4,
 "nbformat_minor": 2
}
